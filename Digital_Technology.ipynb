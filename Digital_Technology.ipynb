{
  "nbformat": 4,
  "nbformat_minor": 0,
  "metadata": {
    "colab": {
      "provenance": [],
      "authorship_tag": "ABX9TyMqdOV2qp6I3cwBqF+MLMNw",
      "include_colab_link": true
    },
    "kernelspec": {
      "name": "python3",
      "display_name": "Python 3"
    },
    "language_info": {
      "name": "python"
    }
  },
  "cells": [
    {
      "cell_type": "markdown",
      "metadata": {
        "id": "view-in-github",
        "colab_type": "text"
      },
      "source": [
        "<a href=\"https://colab.research.google.com/github/Mithi-18/Bat-News-scroller/blob/main/Digital_Technology.ipynb\" target=\"_parent\"><img src=\"https://colab.research.google.com/assets/colab-badge.svg\" alt=\"Open In Colab\"/></a>"
      ]
    },
    {
      "cell_type": "code",
      "execution_count": 17,
      "metadata": {
        "colab": {
          "base_uri": "https://localhost:8080/"
        },
        "id": "Z0kN_rASQGgx",
        "outputId": "d31c0769-7873-436e-feef-c1034829483c"
      },
      "outputs": [
        {
          "output_type": "stream",
          "name": "stdout",
          "text": [
            "Enter temperature in Celsius: 45\n",
            "45.0°C is equal to 113.0°F\n"
          ]
        }
      ],
      "source": [
        "#1\n",
        "celsius = float(input(\"Enter temperature in Celsius: \"))\n",
        "fahrenheit = (celsius * 9/5) + 32\n",
        "print(f\"{celsius}°C is equal to {fahrenheit}°F\")\n"
      ]
    },
    {
      "cell_type": "code",
      "source": [
        "#2\n",
        "fahrenheit = float(input(\"Enter temperature in Fahrenheit: \"))\n",
        "celsius = (fahrenheit - 32) * 5/9\n",
        "\n",
        "\n",
        "print(f\"{fahrenheit}°F is equal to {celsius}°C\")"
      ],
      "metadata": {
        "id": "20Nrb4ArQkjr"
      },
      "execution_count": null,
      "outputs": []
    },
    {
      "cell_type": "code",
      "source": [
        "#3\n",
        "import math\n",
        "\n",
        "\n",
        "radius = float(input(\"Enter the radius of the circle: \"))\n",
        "\n",
        "area = math.pi * radius ** 2\n",
        "circumference = 2 * math.pi * radius\n",
        "\n",
        "\n",
        "print(f\"The area of the circle is: {area}\")\n",
        "print(f\"The circumference of the circle is: {circumference}\")\n"
      ],
      "metadata": {
        "id": "BijBq0MwRGyV"
      },
      "execution_count": null,
      "outputs": []
    },
    {
      "cell_type": "code",
      "source": [
        "#4\n",
        "length = float(input(\"Enter the length of the rectangular garden: \"))\n",
        "width = float(input(\"Enter the width of the rectangular garden: \"))\n",
        "area = length * width\n",
        "perimeter = 2 * (length + width)\n",
        "print(f\"The area of the rectangular garden is: {area}\")\n",
        "print(f\"The perimeter of the rectangular garden is: {perimeter}\")"
      ],
      "metadata": {
        "id": "XNJFjDnzR5wy"
      },
      "execution_count": null,
      "outputs": []
    },
    {
      "cell_type": "code",
      "source": [
        "#5\n",
        "total_money = float(input(\"Enter the total amount of money Lamiya's father had: \"))\n",
        "\n",
        "item1 = float(input(\"Enter the price of item 1: \"))\n",
        "item2 = float(input(\"Enter the price of item 2: \"))\n",
        "item3 = float(input(\"Enter the price of item 3: \"))\n",
        "item4 = float(input(\"Enter the price of item 4: \"))\n",
        "item5 = float(input(\"Enter the price of item 5: \"))\n",
        "\n",
        "total_spent = item1 + item2 + item3 + item4 + item5\n",
        "\n",
        "money_left = total_money - total_spent\n",
        "\n",
        "print(f\"The amount of money left with Lamiya's father is: {money_left}\")\n"
      ],
      "metadata": {
        "id": "2dQXi5jnT0ln"
      },
      "execution_count": null,
      "outputs": []
    },
    {
      "cell_type": "code",
      "source": [
        "#6\n",
        "num = int(input(\"Enter an integer: \"))\n",
        "\n",
        "print(num, \"x 1 =\", num * 1)\n",
        "print(num, \"x 2 =\", num * 2)\n",
        "print(num, \"x 3 =\", num * 3)\n",
        "print(num, \"x 4 =\", num * 4)\n",
        "print(num, \"x 5 =\", num * 5)\n",
        "print(num, \"x 6 =\", num * 6)\n",
        "print(num, \"x 7 =\", num * 7)\n",
        "print(num, \"x 8 =\", num * 8)\n",
        "print(num, \"x 9 =\", num * 9)\n",
        "print(num, \"x 10 =\", num * 10)"
      ],
      "metadata": {
        "id": "ZNtspFtRVlKM"
      },
      "execution_count": null,
      "outputs": []
    },
    {
      "cell_type": "code",
      "source": [
        "#7\n",
        "x=int(input(\"Enter the First number:\"))\n",
        "y=int(input(\"Enter the second number:\"))\n",
        "sum=x+y\n",
        "print(\"Jog hobe:\",sum)\n",
        "sub=x-y\n",
        "print(\"Biyog hobe:\",sub)\n",
        "mul=x*y\n",
        "print(\"Gun hobe:\",mul)\n",
        "div=x/y\n",
        "print(\"Bhag hobe:\",div)\n",
        "mod=x%y\n",
        "print(\"Mod hobe:\",mod)"
      ],
      "metadata": {
        "colab": {
          "base_uri": "https://localhost:8080/"
        },
        "id": "aBBWfwmlXKQI",
        "outputId": "40917bf4-e795-4220-9b12-50bd24a923c8"
      },
      "execution_count": 2,
      "outputs": [
        {
          "output_type": "stream",
          "name": "stdout",
          "text": [
            "Enter the First number:2\n",
            "Enter the second number:2\n",
            "Jog hobe: 4\n",
            "Biyog hobe: 0\n",
            "Gun hobe: 4\n",
            "Bhag hobe: 1.0\n",
            "Mod hobe: 0\n"
          ]
        }
      ]
    },
    {
      "cell_type": "code",
      "source": [
        "#8\n",
        "sub1=int(input(\"Enter the first subject marks:\"))\n",
        "sub2=int(input(\"Enter the second subject marks:\"))\n",
        "sub3=int(input(\"Enter the third subject marks:\"))\n",
        "sub4=int(input(\"Enter the fourth subject marks:\"))\n",
        "sub5=int(input(\"Enter the fifth subject marks:\"))\n",
        "sub6=int(input(\"Enter the sixth subject marks:\"))\n",
        "sub7=int(input(\"Enter the seventh subject marks:\"))\n",
        "sub8=int(input(\"Enter the eighth subject marks:\"))\n",
        "sub9=int(input(\"Enter the ninth subject marks:\"))\n",
        "sub10=int(input(\"Enter the tenth subject marks:\"))\n",
        "total=(sub1+sub2+sub3+sub4+sub5+sub6+sub7+sub8+sub9+sub10)\n",
        "print(\"Total marks:\",total)\n",
        "avg=total/10\n",
        "print(\"Average marks:\",avg)"
      ],
      "metadata": {
        "colab": {
          "base_uri": "https://localhost:8080/"
        },
        "id": "N548OINcZIzK",
        "outputId": "7e5e5320-29fe-430a-b797-de122b3864ca"
      },
      "execution_count": 4,
      "outputs": [
        {
          "output_type": "stream",
          "name": "stdout",
          "text": [
            "Enter the first subject marks:10\n",
            "Enter the second subject marks:20\n",
            "Enter the third subject marks:30\n",
            "Enter the fourth subject marks:40\n",
            "Enter the fifth subject marks:50\n",
            "Enter the sixth subject marks:60\n",
            "Enter the seventh subject marks:70\n",
            "Enter the eighth subject marks:80\n",
            "Enter the ninth subject marks:90\n",
            "Enter the tenth subject marks:100\n",
            "Total marks: 550\n",
            "Average marks: 55.0\n"
          ]
        }
      ]
    },
    {
      "cell_type": "code",
      "source": [
        "\n",
        "#9\n",
        "salary=int(input(\"Enter the salary:\"))\n",
        "rent=(salary*0.2)\n",
        "save=(salary*0.1)\n",
        "cost_in_month=salary-rent\n",
        "print(\"Cost in a month:\",cost_in_month)\n",
        "\n",
        "save_in_year=save*12\n",
        "print(\"Save in a year:\",save_in_year)"
      ],
      "metadata": {
        "colab": {
          "base_uri": "https://localhost:8080/"
        },
        "id": "O7VeCYkyaHx6",
        "outputId": "ba210e79-9d1f-431f-e480-8ff6edf6e1e3"
      },
      "execution_count": 13,
      "outputs": [
        {
          "output_type": "stream",
          "name": "stdout",
          "text": [
            "Enter the salary:10000\n",
            "Cost in a month: 8000.0\n",
            "Save in a year: 12000.0\n"
          ]
        }
      ]
    },
    {
      "cell_type": "code",
      "source": [
        "#10\n",
        "total_students = int(input(\"Enter the total number of students in the class: \"))\n",
        "present_students = int(input(\"Enter the number of present students: \"))\n",
        "\n",
        "\n",
        "absent_students = total_students - present_students\n",
        "\n",
        "\n",
        "present_percentage = (present_students / total_students) * 100\n",
        "absent_percentage = (absent_students / total_students) * 100\n",
        "print(f\"Percentage of present students: {present_percentage:.2f}%\")\n",
        "print(f\"Percentage of absent students: {absent_percentage:.2f}%\")\n"
      ],
      "metadata": {
        "colab": {
          "base_uri": "https://localhost:8080/"
        },
        "id": "hjtkIViYcuJQ",
        "outputId": "4d240720-f5c0-4f9e-b13b-6d1515658e79"
      },
      "execution_count": 16,
      "outputs": [
        {
          "output_type": "stream",
          "name": "stdout",
          "text": [
            "Enter the total number of students in the class: 100\n",
            "Enter the number of present students: 60\n",
            "Percentage of present students: 60.00%\n",
            "Percentage of absent students: 40.00%\n"
          ]
        }
      ]
    }
  ]
}